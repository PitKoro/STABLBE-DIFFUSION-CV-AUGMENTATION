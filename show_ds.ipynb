{
 "cells": [
  {
   "cell_type": "code",
   "execution_count": 3,
   "metadata": {},
   "outputs": [
    {
     "name": "stdout",
     "output_type": "stream",
     "text": [
      " 100% |███████████████████| 13/13 [28.5ms elapsed, 0s remaining, 456.1 samples/s]     \n",
      "['crack', 'fistula', 'rupture']\n",
      "Name:        2023.03.03.16.35.34\n",
      "Media type:  image\n",
      "Num samples: 13\n",
      "Persistent:  False\n",
      "Tags:        []\n",
      "Sample fields:\n",
      "    id:         fiftyone.core.fields.ObjectIdField\n",
      "    filepath:   fiftyone.core.fields.StringField\n",
      "    tags:       fiftyone.core.fields.ListField(fiftyone.core.fields.StringField)\n",
      "    metadata:   fiftyone.core.fields.EmbeddedDocumentField(fiftyone.core.metadata.ImageMetadata)\n",
      "    detections: fiftyone.core.fields.EmbeddedDocumentField(fiftyone.core.labels.Detections)\n",
      "    coco_id:    fiftyone.core.fields.IntField\n"
     ]
    },
    {
     "data": {
      "text/html": [
       "\n",
       "        <iframe\n",
       "            width=\"100%\"\n",
       "            height=\"800\"\n",
       "            src=\"http://localhost:5151/?notebook=True&subscription=42975d50-81a9-4d09-9d27-959634d4d513\"\n",
       "            frameborder=\"0\"\n",
       "            allowfullscreen\n",
       "            \n",
       "        ></iframe>\n",
       "        "
      ],
      "text/plain": [
       "<IPython.lib.display.IFrame at 0x7fb00b1ee040>"
      ]
     },
     "metadata": {},
     "output_type": "display_data"
    }
   ],
   "source": [
    "import fiftyone as fo\n",
    "IMG_PATH = \"/home/peter-pc/Desktop/test/dataset/augmentated\"\n",
    "LABELS_PATH = \"/home/peter-pc/Desktop/test/dataset/augmentated/aug_result.json\"\n",
    "# Load COCO formatted dataset\n",
    "coco_dataset = fo.Dataset.from_dir(\n",
    "    dataset_type=fo.types.COCODetectionDataset,\n",
    "    data_path = IMG_PATH,\n",
    "    labels_path = LABELS_PATH,\n",
    "    include_id=True,\n",
    ")\n",
    "\n",
    "print(coco_dataset.default_classes)\n",
    "print(coco_dataset)\n",
    "\n",
    "session = fo.launch_app(coco_dataset)"
   ]
  },
  {
   "cell_type": "code",
   "execution_count": null,
   "metadata": {},
   "outputs": [],
   "source": []
  }
 ],
 "metadata": {
  "kernelspec": {
   "display_name": "fiftyone",
   "language": "python",
   "name": "python3"
  },
  "language_info": {
   "codemirror_mode": {
    "name": "ipython",
    "version": 3
   },
   "file_extension": ".py",
   "mimetype": "text/x-python",
   "name": "python",
   "nbconvert_exporter": "python",
   "pygments_lexer": "ipython3",
   "version": "3.8.16"
  },
  "orig_nbformat": 4,
  "vscode": {
   "interpreter": {
    "hash": "1121a63e65a7c570f5578137b7a7beffd51ad0edef6f4d1ece4894484025b17d"
   }
  }
 },
 "nbformat": 4,
 "nbformat_minor": 2
}
